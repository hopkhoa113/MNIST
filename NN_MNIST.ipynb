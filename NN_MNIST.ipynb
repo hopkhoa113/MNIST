{
 "cells": [
  {
   "cell_type": "code",
   "execution_count": 1,
   "metadata": {
    "colab": {},
    "colab_type": "code",
    "id": "X425GwzoSmC2"
   },
   "outputs": [
    {
     "name": "stderr",
     "output_type": "stream",
     "text": [
      "Using TensorFlow backend.\n"
     ]
    }
   ],
   "source": [
    "import numpy as np\n",
    "import math\n",
    "from keras.datasets import mnist\n",
    "import matplotlib.pyplot as plt\n",
    "from sklearn.model_selection import train_test_split\n",
    "import keras\n",
    "import csv\n",
    "import pandas as pd"
   ]
  },
  {
   "cell_type": "code",
   "execution_count": 19,
   "metadata": {
    "colab": {
     "base_uri": "https://localhost:8080/",
     "height": 33
    },
    "colab_type": "code",
    "id": "dQEASbUnS9oN",
    "outputId": "52d8f883-9540-4d4f-e5d4-54dbacebb202"
   },
   "outputs": [
    {
     "name": "stdout",
     "output_type": "stream",
     "text": [
      "Mounted at /content/drive\n"
     ]
    }
   ],
   "source": [
    "#from google.colab import drive\n",
    "#drive.mount('/content/drive')"
   ]
  },
  {
   "cell_type": "code",
   "execution_count": 2,
   "metadata": {
    "colab": {},
    "colab_type": "code",
    "id": "h7XozSMbS-pQ"
   },
   "outputs": [],
   "source": [
    "def pre_process(path):\n",
    "    label=[]\n",
    "    data=[]\n",
    "    with open(path, 'r') as csvFile:\n",
    "        reader = csv.reader(csvFile)\n",
    "        next(reader)\n",
    "        for row in reader:\n",
    "            label.append(row[0])\n",
    "            img=np.array(row[1:],dtype='float')/255.0\n",
    "            img.resize(28,28)\n",
    "            data.append(img)\n",
    "    data=np.array(data)\n",
    "    label=np.array(label,dtype='int')\n",
    "    return data, label   \n",
    "\n",
    "def pre_process_test(path):\n",
    "    data=[]\n",
    "    with open(path, 'r') as csvFile:\n",
    "        reader = csv.reader(csvFile)\n",
    "        next(reader)\n",
    "        for row in reader:\n",
    "            img=np.array(row[0:],dtype='float')/255.0\n",
    "            img.resize(28,28)\n",
    "            data.append(img)\n",
    "    data=np.array(data)\n",
    "    return data   "
   ]
  },
  {
   "cell_type": "code",
   "execution_count": 3,
   "metadata": {
    "colab": {},
    "colab_type": "code",
    "id": "jU_xhOhKvwkO"
   },
   "outputs": [],
   "source": [
    "def save_file(path,y_predict):\n",
    "    dict={'ImageId':np.arange(y_predict.shape[0])+1, 'Label':y_predict}\n",
    "    df=pd.DataFrame(dict)\n",
    "    df.to_csv('sample_submission.csv',index=False,header=True )\n",
    "    return \n",
    " "
   ]
  },
  {
   "cell_type": "code",
   "execution_count": 38,
   "metadata": {
    "colab": {},
    "colab_type": "code",
    "id": "-beLnWyYTKBo"
   },
   "outputs": [],
   "source": [
    "data_train, label_train=pre_process('train.csv')\n",
    "data_test=pre_process_test('test.csv')"
   ]
  },
  {
   "cell_type": "code",
   "execution_count": 39,
   "metadata": {
    "colab": {},
    "colab_type": "code",
    "id": "0dNrxrPfVnOl"
   },
   "outputs": [],
   "source": [
    "x_train_img, x_val_img, label_train, label_val = train_test_split(data_train, label_train, test_size=0.1, random_state=42)"
   ]
  },
  {
   "cell_type": "code",
   "execution_count": 40,
   "metadata": {
    "colab": {
     "base_uri": "https://localhost:8080/",
     "height": 319
    },
    "colab_type": "code",
    "id": "QcbrQ7A7TNbr",
    "outputId": "35cd10d0-c89b-4c7c-b82e-2b558d27b861"
   },
   "outputs": [
    {
     "name": "stdout",
     "output_type": "stream",
     "text": [
      "image train num:  42000\n",
      "image test num:  28000\n",
      "label:  0\n"
     ]
    },
    {
     "data": {
      "image/png": "[encoded data removed]",
      "text/plain": [
       "<Figure size 432x288 with 1 Axes>"
      ]
     },
     "metadata": {
      "needs_background": "light"
     },
     "output_type": "display_data"
    }
   ],
   "source": [
    "print('image train num: ',len(data_train))\n",
    "print('image test num: ',len(data_test))\n",
    "print('label: ',label_train[100])\n",
    "plt.imshow(data_train[100])\n",
    "plt.show()"
   ]
  },
  {
   "cell_type": "code",
   "execution_count": 41,
   "metadata": {
    "colab": {},
    "colab_type": "code",
    "id": "JXXh7ULxTYWd"
   },
   "outputs": [],
   "source": [
    "num_classes=10\n",
    "temp=[]\n",
    "y_train = (keras.utils.to_categorical(label_train, num_classes)).T\n",
    "y_val = (keras.utils.to_categorical(label_val, num_classes)).T\n",
    "for i in range(0,len(x_train_img)):\n",
    "    temp.append(np.ndarray.flatten(x_train_img[i]))\n",
    "x_train=np.array(temp).T\n",
    "temp.clear()\n",
    "for i in range(0,len(data_test)):\n",
    "    temp.append(np.ndarray.flatten(data_test[i]))\n",
    "x_test=np.array(temp).T\n",
    "temp.clear()\n",
    "for i in range(0,len(x_val_img)):\n",
    "    temp.append(np.ndarray.flatten(x_val_img[i]))\n",
    "x_val=np.array(temp).T"
   ]
  },
  {
   "cell_type": "code",
   "execution_count": 42,
   "metadata": {
    "colab": {
     "base_uri": "https://localhost:8080/",
     "height": 100
    },
    "colab_type": "code",
    "id": "W-Z5cT2ETa8x",
    "outputId": "79c4d6d4-9e27-4f44-c8a8-f599f823f9e6"
   },
   "outputs": [
    {
     "name": "stdout",
     "output_type": "stream",
     "text": [
      "x_train: (784, 37800)\n",
      "y_train: (10, 37800)\n",
      "x_val: (784, 4200)\n",
      "y_val: (10, 4200)\n",
      "x_test: (784, 28000)\n"
     ]
    }
   ],
   "source": [
    "print('x_train:',x_train.shape)\n",
    "print('y_train:',y_train.shape)\n",
    "\n",
    "print('x_val:',x_val.shape)\n",
    "print('y_val:',y_val.shape)\n",
    "\n",
    "print('x_test:',x_test.shape)"
   ]
  },
  {
   "cell_type": "code",
   "execution_count": 43,
   "metadata": {
    "colab": {},
    "colab_type": "code",
    "id": "6NyzjksfUtAW"
   },
   "outputs": [],
   "source": [
    "def sigmoid(x):# Hàm sigmoid\n",
    "    return 1/(1+np.exp(-x))\n",
    "\n",
    "def sigmoid_grad(a):# Đạp hàm sigmoid\n",
    "    return a*(1-a)\n",
    "\n",
    "def relu(x):# hàm relu\n",
    "    x[x<0] = 0\n",
    "    return x\n",
    "\n",
    "def relu_grad(a):# Đạo hàm hàm relu\n",
    "    a[a>0] = 1\n",
    "    return a\n",
    "\n",
    "def softmax(x):# Hàm softmax\n",
    "    output = np.exp(x-x.max())\n",
    "    output = output/output.sum(axis=0)\n",
    "    return output"
   ]
  },
  {
   "cell_type": "code",
   "execution_count": 44,
   "metadata": {
    "colab": {},
    "colab_type": "code",
    "id": "ulu3qJjSUwGN"
   },
   "outputs": [],
   "source": [
    "class Layer():\n",
    "    def __init__(self,input_shape,num_node,activation='relu'):\n",
    "        self.input_shape=input_shape #(feature,num)\n",
    "        self.num_node=num_node #number node\n",
    "        self.activation=activation\n",
    "        self.w=0.01*np.random.rand(input_shape[0],self.num_node) #(pre_layer num_node,layer_numnode)\n",
    "        self.b=np.zeros((num_node,1))\n",
    "    \n",
    "    # Lan truyền tiến\n",
    "    def forward(self,pre_a):\n",
    "        z=np.dot(self.w.T,pre_a)+self.b #()\n",
    "        \n",
    "        if self.activation=='relu':\n",
    "            a=relu(z)\n",
    "            \n",
    "        if self.activation=='sigmoid':\n",
    "            a=sigmoid(z)\n",
    "            \n",
    "        if self.activation=='softmax':\n",
    "            a=softmax(z)      \n",
    "        return a\n",
    "    \n",
    "    def backward(self,pre_a, pre_theta, pre_w):\n",
    "        \n",
    "        a=self.forward(pre_a)\n",
    "        \n",
    "        if self.activation == 'sigmoid':\n",
    "            da_dz = sigmoid_grad(a)\n",
    "            \n",
    "        if self.activation == 'relu':\n",
    "            da_dz = relu_grad(a)\n",
    "        \n",
    "        theta=np.dot(pre_w,pre_theta)*da_dz\n",
    "        \n",
    "        d_w=np.dot(pre_a,theta.T)\n",
    "        \n",
    "        d_b = np.sum(theta, axis = 1, keepdims = True)\n",
    "        \n",
    "        return d_w,d_b,theta\n",
    "    \n",
    "    "
   ]
  },
  {
   "cell_type": "code",
   "execution_count": 45,
   "metadata": {
    "colab": {},
    "colab_type": "code",
    "id": "zRSDSwSYUyUF"
   },
   "outputs": [],
   "source": [
    "class Neural_Network(object):\n",
    "    def __init__(self):\n",
    "        self.layers = []\n",
    "        \n",
    "    # Thêm layer vào Mô hình NN    \n",
    "    def add_layer(self,input_shape,num_node,activation):\n",
    "        self.layers.append(Layer(input_shape,num_node,activation))\n",
    "    \n",
    "    # Tính đỗ lỗi mô hình\n",
    "    def compute_loss(self,y, y_hat):\n",
    "        return -np.sum(y*np.log(y_hat))/y.shape[1]\n",
    "      \n",
    "      \n",
    "    # LAn truyền tiến trên NN\n",
    "    def forward(self,X):\n",
    "        A = [X]\n",
    "        # output của mỗi layer được append vào A\n",
    "        for layer in self.layers:\n",
    "            A.append(layer.forward(A[-1]))\n",
    "        return A\n",
    "    #Lan truyền ngược trên NN\n",
    "    \n",
    "    def backward(self,y,A):\n",
    "        # tính toán tham số của oupput layer\n",
    "        theta_L = (A[-1] - y)/y.shape[1]\n",
    "        dW_L = np.dot(A[-2],theta_L.T)\n",
    "        \n",
    "        dB_L = np.sum(theta_L, axis = 1, keepdims = True)\n",
    "        \n",
    "        dW_list =[dW_L]\n",
    "        \n",
    "        dB_list =[dB_L]\n",
    "\n",
    "        prev_theta = theta_L\n",
    "        \n",
    "        # Thực hiện lan truyền ngược\n",
    "        for i in range(0,len(self.layers)-1)[::-1]:\n",
    "            prev_a = A[i]\n",
    "            prev_w =self.layers[i + 1].w\n",
    "            dw,db,prev_theta = self.layers[i].backward(prev_a,prev_theta,prev_w)\n",
    "            dW_list.append(dw)\n",
    "            dB_list.append(db)\n",
    "        return dW_list[::-1],dB_list[::-1]\n",
    "\n",
    "    # CẬP nhật trong số\n",
    "    def update_w(self, dW_list,dB_list, learning_rate):\n",
    "        for i in range(len(self.layers)):\n",
    "            self.layers[i].w = self.layers[i].w - learning_rate * dW_list[i]\n",
    "            self.layers[i].b = self.layers[i].b - learning_rate * dB_list[i]\n",
    "            \n",
    "    \n",
    "    def random_mini_batches(self,X_data,y_data,mini_batch_size):\n",
    "        \n",
    "        X=X_data.T\n",
    "        y=y_data.T\n",
    "      \n",
    "        m = X.shape[0]\n",
    "        \n",
    "        mini_batches = []\n",
    "        permutation = list(np.random.permutation(m))\n",
    "        shuffled_X = X[permutation,:]\n",
    "        shuffled_Y = y[permutation,:]\n",
    "\n",
    "        # Step 2: Partition (shuffled_X, shuffled_Y). Minus the end case.\n",
    "        num_complete_minibatches = math.floor(\n",
    "            m / mini_batch_size)  # number of mini batches of size mini_batch_size in your partitionning\n",
    "        for k in range(0, num_complete_minibatches):\n",
    "            mini_batch_X = shuffled_X[ k * mini_batch_size: (k + 1) * mini_batch_size,:]\n",
    "            mini_batch_Y = shuffled_Y[ k * mini_batch_size: (k + 1) * mini_batch_size,:]\n",
    "            mini_batch = (mini_batch_X.T, mini_batch_Y.T)\n",
    "            mini_batches.append(mini_batch)\n",
    "\n",
    "        # Handling the end case (last mini-batch < mini_batch_size)\n",
    "        if m % mini_batch_size != 0:\n",
    "            mini_batch_X = shuffled_X[num_complete_minibatches * mini_batch_size: m,:]\n",
    "            mini_batch_Y = shuffled_Y[num_complete_minibatches * mini_batch_size: m,:]\n",
    "            mini_batch = (mini_batch_X.T, mini_batch_Y.T)\n",
    "            mini_batches.append(mini_batch)\n",
    "\n",
    "        return mini_batches\n",
    "\n",
    "    \n",
    "        \n",
    "\n",
    "    def fit(self,X,y,label_train,x_val,label_val,learning_rate=0.05,epochs=5, batch_size=32):\n",
    "        all_loss = []\n",
    "        \n",
    "        for e in range(epochs):\n",
    "            mini_batches = self.random_mini_batches(X,y,batch_size)\n",
    "            for mini_batch_X, mini_batch_Y in mini_batches:   \n",
    "                A = self.forward(mini_batch_X)\n",
    "                y_hat = A[-1]\n",
    "                loss = self.compute_loss(mini_batch_Y, y_hat)\n",
    "                dW_list,dB_list = self.backward(mini_batch_Y, A)\n",
    "                self.update_w(dW_list,dB_list, learning_rate)              \n",
    "            \n",
    "            B=self.forward(x_val)\n",
    "            predicted_class = np.argmax(B[-1], axis=0)\n",
    "            C=self.forward(X)\n",
    "            predicted_class_train = np.argmax(C[-1], axis=0)\n",
    "            \n",
    "            print(\"Epoch %d: loss is %.5f\" % (e + 1, loss),',train acc: %.2f %%' % (100*np.mean(predicted_class_train == label_train))\n",
    "                  ,',val acc: %.2f %%' % (100*np.mean(predicted_class == label_val)))\n",
    "                \n",
    "        return all_loss\n",
    "              \n",
    "          \n",
    "      \n",
    "    def predict(self,X):\n",
    "        A=self.forward(X)\n",
    "        predicted_class = np.argmax(A[-1], axis=0)\n",
    "        #print('training accuracy: %.2f %%' % (100*np.mean(predicted_class == y)))\n",
    "        \n",
    "        return predicted_class\n",
    "      \n",
    "      \n",
    "        \n",
    "      \n",
    "      \n",
    "   "
   ]
  },
  {
   "cell_type": "code",
   "execution_count": 46,
   "metadata": {
    "colab": {},
    "colab_type": "code",
    "id": "NeaGYFqwU1oX"
   },
   "outputs": [],
   "source": [
    "NN=Neural_Network()"
   ]
  },
  {
   "cell_type": "code",
   "execution_count": 47,
   "metadata": {
    "colab": {},
    "colab_type": "code",
    "id": "CADxbsvIU5mi"
   },
   "outputs": [],
   "source": [
    "NN.add_layer(input_shape=x_test.shape,num_node=1000,activation='relu')\n",
    "NN.add_layer(input_shape=(1000,x_test.shape[1]),num_node=10,activation='softmax')\n",
    "#NN.add_layer(input_shape=(128,x_test.shape[1]),num_node=32,activation='relu')\n",
    "#NN.add_layer(input_shape=(32,x_test.shape[1]),num_node=10,activation='softmax')\n"
   ]
  },
  {
   "cell_type": "code",
   "execution_count": 48,
   "metadata": {
    "colab": {
     "base_uri": "https://localhost:8080/",
     "height": 150
    },
    "colab_type": "code",
    "id": "ms0AkUX2U6NG",
    "outputId": "813d6d2f-c9f5-48ed-b102-8fbe1997dcb2"
   },
   "outputs": [
    {
     "name": "stdout",
     "output_type": "stream",
     "text": [
      "Epoch 1: loss is 0.06288 ,train acc: 92.05 % ,val acc: 91.60 %\n",
      "Epoch 2: loss is 0.62089 ,train acc: 91.96 % ,val acc: 90.69 %\n",
      "Epoch 3: loss is 0.02709 ,train acc: 96.72 % ,val acc: 95.83 %\n",
      "Epoch 4: loss is 0.55114 ,train acc: 91.66 % ,val acc: 90.14 %\n",
      "Epoch 5: loss is 0.01448 ,train acc: 97.89 % ,val acc: 96.62 %\n",
      "Epoch 6: loss is 0.13216 ,train acc: 98.41 % ,val acc: 96.86 %\n",
      "Epoch 7: loss is 0.00106 ,train acc: 98.70 % ,val acc: 97.02 %\n",
      "Epoch 8: loss is 0.05576 ,train acc: 98.66 % ,val acc: 97.02 %\n",
      "Epoch 9: loss is 0.00288 ,train acc: 99.07 % ,val acc: 97.29 %\n",
      "Epoch 10: loss is 0.00444 ,train acc: 99.32 % ,val acc: 97.50 %\n",
      "Epoch 11: loss is 0.00108 ,train acc: 99.43 % ,val acc: 97.62 %\n",
      "Epoch 12: loss is 0.00561 ,train acc: 99.55 % ,val acc: 97.83 %\n",
      "Epoch 13: loss is 0.01445 ,train acc: 99.63 % ,val acc: 97.57 %\n",
      "Epoch 14: loss is 0.01134 ,train acc: 99.79 % ,val acc: 97.86 %\n",
      "Epoch 15: loss is 0.00756 ,train acc: 99.83 % ,val acc: 97.50 %\n",
      "Epoch 16: loss is 0.00086 ,train acc: 99.86 % ,val acc: 97.76 %\n",
      "Epoch 17: loss is 0.00047 ,train acc: 99.91 % ,val acc: 97.71 %\n",
      "Epoch 18: loss is 0.00500 ,train acc: 99.94 % ,val acc: 97.88 %\n",
      "Epoch 19: loss is 0.00249 ,train acc: 99.97 % ,val acc: 97.74 %\n",
      "Epoch 20: loss is 0.00056 ,train acc: 99.98 % ,val acc: 97.60 %\n",
      "Epoch 21: loss is 0.02279 ,train acc: 99.96 % ,val acc: 97.79 %\n",
      "Epoch 22: loss is 0.00665 ,train acc: 99.98 % ,val acc: 97.88 %\n",
      "Epoch 23: loss is 0.00086 ,train acc: 99.98 % ,val acc: 97.76 %\n",
      "Epoch 24: loss is 0.00241 ,train acc: 99.99 % ,val acc: 97.86 %\n",
      "Epoch 25: loss is 0.00397 ,train acc: 99.99 % ,val acc: 97.83 %\n",
      "Epoch 26: loss is 0.00319 ,train acc: 100.00 % ,val acc: 97.76 %\n",
      "Epoch 27: loss is 0.00095 ,train acc: 100.00 % ,val acc: 97.90 %\n",
      "Epoch 28: loss is 0.00042 ,train acc: 100.00 % ,val acc: 97.79 %\n",
      "Epoch 29: loss is 0.01578 ,train acc: 100.00 % ,val acc: 97.98 %\n",
      "Epoch 30: loss is 0.00008 ,train acc: 100.00 % ,val acc: 97.88 %\n",
      "Epoch 31: loss is 0.00287 ,train acc: 100.00 % ,val acc: 97.86 %\n",
      "Epoch 32: loss is 0.00672 ,train acc: 100.00 % ,val acc: 97.88 %\n"
     ]
    },
    {
     "data": {
      "text/plain": [
       "[]"
      ]
     },
     "execution_count": 48,
     "metadata": {},
     "output_type": "execute_result"
    }
   ],
   "source": [
    "NN.fit(x_train,y_train,label_train,x_val,label_val,learning_rate=0.1,epochs=32, batch_size=32)"
   ]
  },
  {
   "cell_type": "code",
   "execution_count": 49,
   "metadata": {
    "colab": {},
    "colab_type": "code",
    "id": "6sppH0uxVBdU"
   },
   "outputs": [],
   "source": [
    "kq=NN.predict(x_test)"
   ]
  },
  {
   "cell_type": "code",
   "execution_count": 50,
   "metadata": {
    "colab": {},
    "colab_type": "code",
    "id": "OpIlZtxCb-3l"
   },
   "outputs": [],
   "source": [
    "save_file('sample_submission.csv',np.array(kq))"
   ]
  },
  {
   "cell_type": "code",
   "execution_count": 0,
   "metadata": {
    "colab": {},
    "colab_type": "code",
    "id": "CMGTnEHRTTyl"
   },
   "outputs": [],
   "source": []
  }
 ],
 "metadata": {
  "colab": {
   "collapsed_sections": [],
   "name": "NN_new.ipynb",
   "provenance": []
  },
  "kernelspec": {
   "display_name": "Python 3",
   "language": "python",
   "name": "python3"
  },
  "language_info": {
   "codemirror_mode": {
    "name": "ipython",
    "version": 3
   },
   "file_extension": ".py",
   "mimetype": "text/x-python",
   "name": "python",
   "nbconvert_exporter": "python",
   "pygments_lexer": "ipython3",
   "version": "3.7.3"
  }
 },
 "nbformat": 4,
 "nbformat_minor": 1
}
